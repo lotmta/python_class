{
 "cells": [
  {
   "cell_type": "code",
   "execution_count": 316,
   "metadata": {},
   "outputs": [],
   "source": [
    "from Bio import Entrez, SeqIO\n",
    "from pprint import pprint \n",
    "import re\n",
    "Entrez.email = \"lotmateohernandezespinosa@gmail.com\"\n"
   ]
  },
  {
   "cell_type": "code",
   "execution_count": 317,
   "metadata": {},
   "outputs": [],
   "source": [
    "def crear_termino(inpts):\n",
    "\n",
    "    # Inicializamos la lista donde guardaremos los terminos, donde cada elementp corresponde a un organismo y sus genes correspondientes \n",
    "    terminos=[]\n",
    "\n",
    "    # Hacemos un for para que el formateo se repita para cada organismo, los organismos esan separados por un ; por eso el split\n",
    "    for inpt in inpts.split(';'):\n",
    "\n",
    "        # Separamos los genes del organismo y metemos a este en la variable $termino\n",
    "        inpt = inpt.split(\":\")\n",
    "        termino = inpt[0] + \"[Orgn] AND (\"\n",
    "\n",
    "        # Separamos cada gen para introducirlos de uno a uno en $termino con el formato adecuado\n",
    "        i = True\n",
    "        for gen in inpt[1].replace(\" \",\"\").split(','):\n",
    "            if i:\n",
    "                termino += gen+'[Gene]'\n",
    "            else:\n",
    "                termino += \" OR \" + gen+'[Gene]' \n",
    "            i = False\n",
    "\n",
    "        termino += \")\"\n",
    "\n",
    "        # Metemos lo de termino al vector\n",
    "        terminos += [termino]\n",
    "\n",
    "    return(terminos)\n",
    "\n",
    "\n",
    "# Se define la funcion para buscar en las bases de datos\n",
    "def buscar_db(terminos):\n",
    "\n",
    "    # Inicializamos la lista donde guardaremos los ids de las bases de datos segun el organismo, sera una lista de diccionarios de listas\n",
    "    DbIDS = []\n",
    "\n",
    "    # Hacemos este for para repetir todo por cada organismo\n",
    "    for termino in terminos:\n",
    "\n",
    "        # Buscamos los datos\n",
    "        record = Entrez.read(Entrez.egquery(term = termino))\n",
    "\n",
    "        # Inicializamos la lista que tendra las bases de datos en donde si hay informacion, Count > 1\n",
    "        # Tambien el diccionario donde guardaremos la lista de IDs de cada base de datos que paso el criterio\n",
    "        DictDbs = {}\n",
    "        Dbs=[]\n",
    "\n",
    "        # Checamos que bases de datos pasan nuestro criterio y las guardamos en $DBs\n",
    "        for row in record[\"eGQueryResult\"]:\n",
    "            if (row[\"Count\"] != \"Error\"):\n",
    "                if(int(row[\"Count\"]) > 1):\n",
    "                    Dbs += [row[\"DbName\"]]\n",
    "        \n",
    "        # Ahora para cada base de datos guardamos la lista con los IDS\n",
    "        for Db in Dbs:\n",
    "            DictDbs[Db] = Entrez.read(Entrez.esearch(db= Db, term=termino))[\"IdList\"]\n",
    "        \n",
    "        # Este diccionario lo guardamos en la lista que iniciamos al inicio, esto para que se separen las bases de datos y IDS segun el organismo\n",
    "        DbIDS+= [DictDbs]\n",
    "\n",
    "    return(DbIDS)"
   ]
  },
  {
   "cell_type": "code",
   "execution_count": 318,
   "metadata": {},
   "outputs": [],
   "source": [
    "terminos = crear_termino('Drosophila melanogaster: p53')\n",
    "Dbs = buscar_db(terminos)"
   ]
  },
  {
   "cell_type": "code",
   "execution_count": 332,
   "metadata": {},
   "outputs": [],
   "source": [
    "def articulos_tit(Dbs):\n",
    "    Articulos = {}\n",
    "\n",
    "    i = 0\n",
    "    for Db in Dbs:\n",
    "\n",
    "        Titus = []\n",
    "\n",
    "        if ('pubmed' in list(Db.keys())):\n",
    "\n",
    "            for ID in Db['pubmed']:\n",
    "                Articulo = Entrez.read(Entrez.efetch(db='pubmed', id = ID))\n",
    "                Titus += [Articulo['PubmedArticle'][0]['MedlineCitation']['Article']['ArticleTitle']]\n",
    "\n",
    "        Articulos['Titulos'] = Titus\n",
    "        Articulos['IDS'] = Db['pubmed']\n",
    "    \n",
    "    return(Articulos)"
   ]
  },
  {
   "cell_type": "code",
   "execution_count": 333,
   "metadata": {},
   "outputs": [],
   "source": [
    "Articulos = articulos_tit(Dbs)"
   ]
  },
  {
   "cell_type": "code",
   "execution_count": 334,
   "metadata": {},
   "outputs": [
    {
     "data": {
      "text/plain": [
       "['Regulation and coordination of the different DNA damage responses in <i>Drosophila</i>.',\n",
       " 'p53: From Fundamental Biology to Clinical Applications in Cancer.',\n",
       " 'Prediction of intestinal stem cell regulatory genes from Drosophila gut damage model created using multiple inducers: Differential gene expression-based protein-protein interaction network analysis.',\n",
       " 'p53 Related Protein Kinase is Required for Arp2/3-Dependent Actin Dynamics of Hemocytes in <i>Drosophila melanogaster</i>.',\n",
       " 'Effects of cadmium on oxidative stress and cell apoptosis in Drosophila melanogaster larvae.',\n",
       " 'Enhanced germline stem cell longevity in Drosophila diapause.',\n",
       " '<i>Drosophila p53</i> isoforms have overlapping and distinct functions in germline genome integrity and oocyte quality control.',\n",
       " 'NMNAT promotes glioma growth through regulating post-translational modifications of P53 to inhibit apoptosis.',\n",
       " 'Toxic potential of botulinum toxin type A on senescence in a <i>Drosophila melanogaster</i> model.',\n",
       " 'Distinct and Coordinated Regulation of Small Non-coding RNAs by E2f1 and p53 During <i>Drosophila</i> Development and in Response to DNA Damage.',\n",
       " 'VCP maintains nuclear size by regulating the DNA damage-associated MDC1-p53-autophagy axis in Drosophila.',\n",
       " 'Human type 2 diabetes mellitus-associated transcriptional disturbances in a high-sugar diet long-term exposed Drosophila melanogaster.',\n",
       " 'Cooperation between oncogenic Ras and wild-type p53 stimulates STAT non-cell autonomously to promote tumor radioresistance.',\n",
       " 'Moderate Red Wine Consumption Increases the Expression of Longevity-Associated Genes in Controlled Human Populations and Extends Lifespan in <i>Drosophila melanogaster</i>.',\n",
       " 'Loss of the spectraplakin gene Short stop induces a DNA damage response in Drosophila epithelia.',\n",
       " 'Piperine-Coated Gold Nanoparticles Alleviate Paraquat-Induced Neurotoxicity in <i>Drosophila melanogaster</i>.',\n",
       " 'Fat Body p53 Regulates Systemic Insulin Signaling and Autophagy under Nutrient Stress via Drosophila Upd2 Repression.',\n",
       " 'Cells with loss-of-heterozygosity after exposure to ionizing radiation in Drosophila are culled by p53-dependent and p53-independent mechanisms.',\n",
       " 'The Impact of <i>Drosophila Awd/NME1/2</i> Levels on Notch and Wg Signaling Pathways.',\n",
       " 'Identification and Characterization of Breakpoints and Mutations on <i>Drosophila melanogaster</i> Balancer Chromosomes.']"
      ]
     },
     "execution_count": 334,
     "metadata": {},
     "output_type": "execute_result"
    }
   ],
   "source": [
    "Articulos['Titulos']"
   ]
  },
  {
   "cell_type": "code",
   "execution_count": 335,
   "metadata": {},
   "outputs": [],
   "source": [
    "results = Entrez.read(Entrez.elink(dbfrom=\"pubmed\", db=\"pubmed\", id=Articulos['IDS'], LinkName='pubmed_pubmed_refs'))"
   ]
  },
  {
   "cell_type": "code",
   "execution_count": 336,
   "metadata": {},
   "outputs": [
    {
     "data": {
      "text/plain": [
       "{'LinkSetDbHistory': [], 'LinkSetDb': [{'Link': [{'Id': '34824391'}, {'Id': '33855023'}, {'Id': '33154387'}, {'Id': '31864707'}, {'Id': '31425511'}, {'Id': '31391501'}, {'Id': '30904193'}, {'Id': '30892991'}, {'Id': '30824861'}, {'Id': '30735120'}, {'Id': '30462636'}, {'Id': '29028797'}, {'Id': '28622525'}, {'Id': '28306107'}, {'Id': '28218681'}, {'Id': '27584613'}, {'Id': '27332952'}, {'Id': '27075174'}, {'Id': '26679112'}, {'Id': '26573328'}, {'Id': '26324426'}, {'Id': '25959206'}, {'Id': '25941003'}, {'Id': '25924716'}, {'Id': '25312810'}, {'Id': '25211335'}, {'Id': '24683536'}, {'Id': '24675716'}, {'Id': '24618896'}, {'Id': '24556841'}, {'Id': '24551207'}, {'Id': '24380076'}, {'Id': '24349633'}, {'Id': '24286825'}, {'Id': '24284207'}, {'Id': '24240233'}, {'Id': '24214341'}, {'Id': '24003211'}, {'Id': '23184991'}, {'Id': '23144631'}, {'Id': '22666323'}, {'Id': '22467874'}, {'Id': '22413088'}, {'Id': '22294702'}, {'Id': '22056138'}, {'Id': '22036477'}, {'Id': '21965616'}, {'Id': '21886179'}, {'Id': '21693509'}, {'Id': '21439026'}, {'Id': '20965415'}, {'Id': '20659447'}, {'Id': '20491544'}, {'Id': '20368801'}, {'Id': '20308539'}, {'Id': '20189388'}, {'Id': '19847258'}, {'Id': '19692992'}, {'Id': '19364807'}, {'Id': '19100727'}, {'Id': '19095959'}, {'Id': '19056894'}, {'Id': '18940789'}, {'Id': '18845846'}, {'Id': '18779571'}, {'Id': '18719710'}, {'Id': '18688282'}, {'Id': '18571155'}, {'Id': '18550049'}, {'Id': '18548484'}, {'Id': '18437164'}, {'Id': '18410726'}, {'Id': '18284664'}, {'Id': '18213359'}, {'Id': '17380161'}, {'Id': '17310982'}, {'Id': '17183370'}, {'Id': '17141154'}, {'Id': '16920621'}, {'Id': '16860746'}, {'Id': '16785441'}, {'Id': '16340960'}, {'Id': '16340959'}, {'Id': '16198289'}, {'Id': '16079158'}, {'Id': '16020777'}, {'Id': '15879698'}, {'Id': '15860729'}, {'Id': '15723794'}, {'Id': '15510160'}, {'Id': '15296752'}, {'Id': '15221856'}, {'Id': '14729967'}, {'Id': '14711410'}, {'Id': '12935877'}, {'Id': '12917412'}, {'Id': '12766778'}, {'Id': '12717439'}, {'Id': '12672954'}, {'Id': '12558601'}, {'Id': '12459723'}, {'Id': '12399544'}, {'Id': '12172011'}, {'Id': '12093734'}, {'Id': '12050146'}, {'Id': '11961558'}, {'Id': '11752278'}, {'Id': '11728459'}, {'Id': '11511545'}, {'Id': '11459832'}, {'Id': '11298456'}, {'Id': '11078726'}, {'Id': '10860994'}, {'Id': '10778860'}, {'Id': '10778859'}, {'Id': '10733527'}, {'Id': '10675328'}, {'Id': '10220397'}, {'Id': '9197245'}, {'Id': '9190891'}, {'Id': '9000131'}, {'Id': '7954799'}, {'Id': '7671309'}, {'Id': '7596441'}, {'Id': '2141171'}], 'DbTo': 'pubmed', 'LinkName': 'pubmed_pubmed_refs'}], 'ERROR': [], 'DbFrom': 'pubmed', 'IdList': ['36147740']}"
      ]
     },
     "execution_count": 336,
     "metadata": {},
     "output_type": "execute_result"
    }
   ],
   "source": [
    "results[0]"
   ]
  },
  {
   "cell_type": "code",
   "execution_count": 341,
   "metadata": {},
   "outputs": [
    {
     "ename": "IndexError",
     "evalue": "list index out of range",
     "output_type": "error",
     "traceback": [
      "\u001b[1;31m---------------------------------------------------------------------------\u001b[0m",
      "\u001b[1;31mIndexError\u001b[0m                                Traceback (most recent call last)",
      "Cell \u001b[1;32mIn [341], line 1\u001b[0m\n\u001b[1;32m----> 1\u001b[0m results[\u001b[39m15\u001b[39;49m][\u001b[39m'\u001b[39;49m\u001b[39mLinkSetDb\u001b[39;49m\u001b[39m'\u001b[39;49m][\u001b[39m0\u001b[39;49m][\u001b[39m'\u001b[39m\u001b[39mLink\u001b[39m\u001b[39m'\u001b[39m]\n",
      "\u001b[1;31mIndexError\u001b[0m: list index out of range"
     ]
    }
   ],
   "source": [
    "results[15]['LinkSetDb'][0]['Link']"
   ]
  },
  {
   "cell_type": "code",
   "execution_count": 380,
   "metadata": {},
   "outputs": [
    {
     "name": "stdout",
     "output_type": "stream",
     "text": [
      "{'Id': '22056138'}\n",
      "{'Id': '29755668'}\n",
      "{'Id': '26980051'}\n",
      "{'Id': '20516128'}\n",
      "{'Id': '19682467'}\n",
      "{'Id': '12034830'}\n",
      "{'Id': '18707322'}\n",
      "{'Id': '17600215'}\n",
      "{'Id': '22898807'}\n",
      "{'Id': '10481009'}\n",
      "{'Id': '23385724'}\n",
      "{'Id': '25882045'}\n",
      "{'Id': '25268165'}\n",
      "{'Id': '24876915'}\n",
      "{'Id': '29284660'}\n",
      "{'Id': '19562034'}\n",
      "{'Id': '22036477'}\n"
     ]
    }
   ],
   "source": [
    "ArticuloRefs = []\n",
    "i= 0\n",
    "for result in results:\n",
    "    TituRefs = {}\n",
    "    Refs = []\n",
    "\n",
    "    for link in result['LinkSetDb']:\n",
    "\n",
    "        if len(link) > 0:\n",
    "\n",
    "            for id in link['Link']:\n",
    "                TituAbstraRef = {}\n",
    "\n",
    "                try:\n",
    "                    Articulo = Entrez.read(Entrez.efetch(db='pubmed', id = id['Id'], api_key = '2c4f67def001c89be6a3d681c1da87fc8409'))\n",
    "\n",
    "                    TituAbstraRef['Id'] = id['Id']\n",
    "\n",
    "                    if 'abstract' in list(Articulo['PubmedArticle'][0]['MedlineCitation']['Article'].keys()):\n",
    "                        TituAbstraRef['Abstract'] = Articulo['PubmedArticle'][0]['MedlineCitation']['Article']['Abstract']['AbstractText'][0]\n",
    "                    else:\n",
    "                        TituAbstraRef['Abstract'] = 'No abstract'\n",
    "                        \n",
    "                    TituAbstraRef['Titulo'] = Articulo['PubmedArticle'][0]['MedlineCitation']['Article']['ArticleTitle']\n",
    "\n",
    "                    Refs += [TituAbstraRef]\n",
    "                except:\n",
    "                    print(id)\n",
    "\n",
    "    \n",
    "    TituRefs['Titulo'] = Articulos['Titulos'][i]\n",
    "    TituRefs['Referencias'] = Refs\n",
    "    ArticuloRefs += [TituRefs]\n",
    "    \n",
    "    i+=1\n"
   ]
  },
  {
   "cell_type": "code",
   "execution_count": 379,
   "metadata": {},
   "outputs": [],
   "source": [
    "Articulo = Entrez.read(Entrez.efetch(db='pubmed', id = 24349633))"
   ]
  },
  {
   "cell_type": "code",
   "execution_count": 369,
   "metadata": {},
   "outputs": [
    {
     "data": {
      "text/plain": [
       "False"
      ]
     },
     "execution_count": 369,
     "metadata": {},
     "output_type": "execute_result"
    }
   ],
   "source": [
    "\n",
    "'abstract' in list(Articulo['PubmedArticle'][0]['MedlineCitation']['Article'].keys())"
   ]
  }
 ],
 "metadata": {
  "kernelspec": {
   "display_name": "Python 3.10.8 64-bit (microsoft store)",
   "language": "python",
   "name": "python3"
  },
  "language_info": {
   "codemirror_mode": {
    "name": "ipython",
    "version": 3
   },
   "file_extension": ".py",
   "mimetype": "text/x-python",
   "name": "python",
   "nbconvert_exporter": "python",
   "pygments_lexer": "ipython3",
   "version": "3.10.8"
  },
  "orig_nbformat": 4,
  "vscode": {
   "interpreter": {
    "hash": "7a68845eec9ea836faed8a7face7f1dab24588dc0bcc64d462ec00029e9d8638"
   }
  }
 },
 "nbformat": 4,
 "nbformat_minor": 2
}
