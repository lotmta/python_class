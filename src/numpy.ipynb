{
 "cells": [
  {
   "cell_type": "code",
   "execution_count": 1,
   "metadata": {},
   "outputs": [],
   "source": [
    "import numpy as np"
   ]
  },
  {
   "attachments": {},
   "cell_type": "markdown",
   "metadata": {},
   "source": [
    "## Ejercicio 1\n",
    "\n",
    "#### Parte 1"
   ]
  },
  {
   "cell_type": "code",
   "execution_count": 10,
   "metadata": {},
   "outputs": [
    {
     "name": "stdout",
     "output_type": "stream",
     "text": [
      "[[ 5.  3.]\n",
      " [11.  7.]\n",
      " [ 4.  9.]\n",
      " [10.  3.]]\n"
     ]
    }
   ],
   "source": [
    "# Abrimos el archivo con los datos de produccion y lo guardamos en una variable\n",
    "prodG = np.genfromtxt('../data/prod_gml.csv', delimiter=',')\n",
    "\n",
    "# Se multiplican los valores por 1000 \n",
    "prodG *= 1000\n",
    "print(prodG)"
   ]
  },
  {
   "attachments": {},
   "cell_type": "markdown",
   "metadata": {},
   "source": [
    "#### Parte 2"
   ]
  },
  {
   "cell_type": "code",
   "execution_count": 46,
   "metadata": {},
   "outputs": [
    {
     "name": "stdout",
     "output_type": "stream",
     "text": [
      "[[ 6.125  2.8  ]\n",
      " [ 8.75   4.   ]\n",
      " [12.25   5.6  ]\n",
      " [ 7.525  3.44 ]]\n"
     ]
    }
   ],
   "source": [
    "# Abrimos el archivo con los costos y lo guardamos en una variable\n",
    "indC = np.genfromtxt('../data/ind_cost.csv', delimiter=',')\n",
    "\n",
    "# Lo multiplicamos para saber el costo segun la temperatura\n",
    "cost30 = 1.75 * indC\n",
    "cost35 = 0.8 * indC\n",
    "print(np.flipud(np.rot90(np.array([cost30, cost35]))))"
   ]
  },
  {
   "attachments": {},
   "cell_type": "markdown",
   "metadata": {},
   "source": [
    "## Ejercicio 2"
   ]
  },
  {
   "cell_type": "code",
   "execution_count": 51,
   "metadata": {},
   "outputs": [
    {
     "name": "stdout",
     "output_type": "stream",
     "text": [
      "[[1.225      0.93333333]\n",
      " [0.79545455 0.57142857]\n",
      " [3.0625     0.62222222]\n",
      " [0.7525     1.14666667]]\n"
     ]
    }
   ],
   "source": [
    "# Sacamos el costo por gramo de metabolito de cada gen\n",
    "costG_30 = cost30/prodG[:,0]\n",
    "costG_35 = cost35/prodG[:,1]\n",
    "\n",
    "print(np.flipud(np.rot90(np.array([costG_30, costG_35]))))"
   ]
  },
  {
   "attachments": {},
   "cell_type": "markdown",
   "metadata": {},
   "source": [
    "## Ejercicio 3"
   ]
  },
  {
   "cell_type": "code",
   "execution_count": 61,
   "metadata": {},
   "outputs": [
    {
     "name": "stdout",
     "output_type": "stream",
     "text": [
      "El gen 4 es mas barato de producir a 30 grados, con un precio de [0.7525], a 35 grados cuesta [1.14666667]\n"
     ]
    }
   ],
   "source": [
    "difC = costG_30 - costG_35\n",
    "\n",
    "i = 0\n",
    "for dif in difC:\n",
    "    i+=1\n",
    "    if dif<0:\n",
    "        print(f'El gen {i} es mas barato de producir a 30 grados, con un precio de {costG_30[difC<0]}, a 35 grados cuesta {costG_35[difC<0]}')"
   ]
  }
 ],
 "metadata": {
  "kernelspec": {
   "display_name": "Python 3",
   "language": "python",
   "name": "python3"
  },
  "language_info": {
   "codemirror_mode": {
    "name": "ipython",
    "version": 3
   },
   "file_extension": ".py",
   "mimetype": "text/x-python",
   "name": "python",
   "nbconvert_exporter": "python",
   "pygments_lexer": "ipython3",
   "version": "3.10.9"
  },
  "orig_nbformat": 4,
  "vscode": {
   "interpreter": {
    "hash": "7a68845eec9ea836faed8a7face7f1dab24588dc0bcc64d462ec00029e9d8638"
   }
  }
 },
 "nbformat": 4,
 "nbformat_minor": 2
}
